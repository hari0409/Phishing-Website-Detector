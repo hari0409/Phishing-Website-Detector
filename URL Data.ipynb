{
 "cells": [
  {
   "cell_type": "code",
   "execution_count": 50,
   "id": "e4bf3879",
   "metadata": {},
   "outputs": [],
   "source": [
    "# Required Imports\n",
    "import re\n",
    "import urllib\n",
    "from tld import get_tld\n",
    "import requests\n",
    "import warnings\n",
    "import datetime"
   ]
  },
  {
   "cell_type": "code",
   "execution_count": 51,
   "id": "46d90f09",
   "metadata": {},
   "outputs": [],
   "source": [
    "# Basic Data Initialisation\n",
    "URL=\"http://www.google.com/home\"\n",
    "data=[]\n",
    "warnings.filterwarnings(\"error\")\n",
    "warnings.filterwarnings(\"ignore\", category=DeprecationWarning) "
   ]
  },
  {
   "cell_type": "code",
   "execution_count": 52,
   "id": "3b30783c",
   "metadata": {},
   "outputs": [
    {
     "name": "stdout",
     "output_type": "stream",
     "text": [
      "[0]\n"
     ]
    }
   ],
   "source": [
    "# If the URL contains a IP:\n",
    "containsIP=re.match(r\"^(http|https)://\\d+\\.\\d+\\.\\d+\\.\\d+\\.*\", URL)\n",
    "if containsIP:\n",
    "    data.append(1)\n",
    "else:\n",
    "    data.append(0)\n",
    "print(data)"
   ]
  },
  {
   "cell_type": "code",
   "execution_count": 53,
   "id": "0a1aeae3",
   "metadata": {},
   "outputs": [
    {
     "name": "stdout",
     "output_type": "stream",
     "text": [
      "[0, -1]\n"
     ]
    }
   ],
   "source": [
    "# If the URL is long:\n",
    "urlLength=len(URL)\n",
    "if urlLength<54:\n",
    "    data.append(-1)\n",
    "if urlLength>54 and urlLength<75:\n",
    "    data.append(0)\n",
    "if urlLength>=75:\n",
    "    data.append(1)\n",
    "print(data)"
   ]
  },
  {
   "cell_type": "code",
   "execution_count": 54,
   "id": "7f844383",
   "metadata": {},
   "outputs": [
    {
     "name": "stdout",
     "output_type": "stream",
     "text": [
      "[0, -1, 1]\n"
     ]
    }
   ],
   "source": [
    "# If its a tiny url:\n",
    "try:\n",
    "    resp=urllib.request.urlopen(URL)\n",
    "    if resp.url==URL:\n",
    "        data.append(-1)\n",
    "    else:\n",
    "        data.append(1)\n",
    "except :\n",
    "    data.append(-1)\n",
    "print(data)"
   ]
  },
  {
   "cell_type": "code",
   "execution_count": 55,
   "id": "44f74d72",
   "metadata": {},
   "outputs": [
    {
     "name": "stdout",
     "output_type": "stream",
     "text": [
      "[0, -1, 1, -1]\n"
     ]
    }
   ],
   "source": [
    "# If the URL contains the \"@\" symbol:\n",
    "symbol=\"@\"\n",
    "if symbol in URL:\n",
    "    data.append(1)\n",
    "else:\n",
    "    data.append(-1)\n",
    "print(data)"
   ]
  },
  {
   "cell_type": "code",
   "execution_count": 56,
   "id": "f486f97c",
   "metadata": {},
   "outputs": [
    {
     "name": "stdout",
     "output_type": "stream",
     "text": [
      "[0, -1, 1, -1, 1]\n"
     ]
    }
   ],
   "source": [
    "# If the URL is redirecting or not\n",
    "if resp.url==URL:\n",
    "    data.append(-1)\n",
    "else:\n",
    "    data.append(1)\n",
    "print(data)"
   ]
  },
  {
   "cell_type": "code",
   "execution_count": 57,
   "id": "afbfcd0f",
   "metadata": {},
   "outputs": [
    {
     "name": "stdout",
     "output_type": "stream",
     "text": [
      "[0, -1, 1, -1, 1, -1]\n"
     ]
    }
   ],
   "source": [
    "# If the URL contains prefix or suffix\n",
    "separator=\"-\"\n",
    "if separator in URL:\n",
    "    data.append(1)\n",
    "else:\n",
    "    data.append(-1)\n",
    "print(data)"
   ]
  },
  {
   "cell_type": "code",
   "execution_count": 58,
   "id": "57c4d2ba",
   "metadata": {},
   "outputs": [
    {
     "name": "stdout",
     "output_type": "stream",
     "text": [
      "[0, -1, 1, -1, 1, -1, 1]\n"
     ]
    }
   ],
   "source": [
    "# If the URL contains multiple sub domains\n",
    "try:\n",
    "    res = get_tld(URL,as_object=True)\n",
    "    subdomain=res.fld.split(\".\")\n",
    "    if (len(subdomain)<=3):\n",
    "        data.append(1)\n",
    "    elif (len(subdomain)<=4):\n",
    "        data.append(0)\n",
    "    else:\n",
    "        data.append(-1)\n",
    "except:\n",
    "    data.append(-1)\n",
    "print(data)"
   ]
  },
  {
   "cell_type": "code",
   "execution_count": 59,
   "id": "7993ad9b",
   "metadata": {},
   "outputs": [
    {
     "name": "stdout",
     "output_type": "stream",
     "text": [
      "[0, -1, 1, -1, 1, -1, 1, -1]\n"
     ]
    }
   ],
   "source": [
    "# Check the validity of HTTPS request\n",
    "try:\n",
    "    responce=requests.get(URL,verify=False)\n",
    "    data.append(1)\n",
    "except:\n",
    "    data.append(-1)\n",
    "print(data)"
   ]
  },
  {
   "cell_type": "code",
   "execution_count": 60,
   "id": "88b2af2d",
   "metadata": {},
   "outputs": [
    {
     "name": "stdout",
     "output_type": "stream",
     "text": [
      "[0, -1, 1, -1, 1, -1, 1, -1, 1]\n"
     ]
    }
   ],
   "source": [
    "# Domain validity check\n",
    "import whois\n",
    "try:\n",
    "    w = whois.whois(URL)\n",
    "    time = datetime.datetime.now()\n",
    "    exp=w[\"expiration_date\"][0]\n",
    "    if (int(exp.year)-int(time.year)>1):\n",
    "        data.append(1)\n",
    "    else:\n",
    "        data.append(0)\n",
    "except:\n",
    "    data.append(-1)\n",
    "print(data)"
   ]
  },
  {
   "cell_type": "code",
   "execution_count": 61,
   "id": "579b9423",
   "metadata": {},
   "outputs": [
    {
     "name": "stdout",
     "output_type": "stream",
     "text": [
      "[0, -1, 1, -1, 1, -1, 1, -1, 1, 1]\n"
     ]
    }
   ],
   "source": [
    "# Get favicon.ico url\n",
    "try:    \n",
    "    res=urllib.parse.urlsplit(URL)\n",
    "    dt=urllib.request.urlopen(\"https://\"+res.hostname+\"/favicon.ico\")\n",
    "    data.append(1)\n",
    "except:\n",
    "    data.append(-1)\n",
    "print(data)"
   ]
  },
  {
   "cell_type": "code",
   "execution_count": 62,
   "id": "2ea06810",
   "metadata": {},
   "outputs": [
    {
     "name": "stdout",
     "output_type": "stream",
     "text": [
      "[0, -1, 1, -1, 1, -1, 1, -1, 1, 1, -1]\n"
     ]
    }
   ],
   "source": [
    "# Check if the url is https secured\n",
    "if \"https\" in URL:\n",
    "    data.append(1)\n",
    "else:\n",
    "    data.append(-1)\n",
    "print(data)"
   ]
  },
  {
   "cell_type": "code",
   "execution_count": 64,
   "id": "829f6b38",
   "metadata": {},
   "outputs": [
    {
     "name": "stdout",
     "output_type": "stream",
     "text": [
      "[0, -1, 1, -1, 1, -1, 1, -1, 1, 1, -1, 1, 1]\n",
      "13\n"
     ]
    }
   ],
   "source": [
    "# Check if the URL have any previous DNS record\n",
    "from urllib.parse import urlparse\n",
    "import dns.resolver\n",
    "\n",
    "t = urlparse(URL).netloc\n",
    "domain=t.split('.')[-2:]\n",
    "domain[0] \n",
    "nameservers = dns.resolver.query(domain[0],'NS')\n",
    "data.append(1) if len(nameservers)>0 else data.append(-1)\n",
    "print(data)\n",
    "print(len(data))"
   ]
  },
  {
   "cell_type": "code",
   "execution_count": null,
   "id": "0f60c1e3",
   "metadata": {},
   "outputs": [],
   "source": []
  }
 ],
 "metadata": {
  "kernelspec": {
   "display_name": "Python 3 (ipykernel)",
   "language": "python",
   "name": "python3"
  },
  "language_info": {
   "codemirror_mode": {
    "name": "ipython",
    "version": 3
   },
   "file_extension": ".py",
   "mimetype": "text/x-python",
   "name": "python",
   "nbconvert_exporter": "python",
   "pygments_lexer": "ipython3",
   "version": "3.10.4"
  }
 },
 "nbformat": 4,
 "nbformat_minor": 5
}
